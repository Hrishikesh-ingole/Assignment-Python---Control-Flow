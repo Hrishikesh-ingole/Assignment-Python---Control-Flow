{
 "cells": [
  {
   "cell_type": "raw",
   "id": "fc85965e-4416-491d-aabc-4381039d7a7a",
   "metadata": {},
   "source": [
    "Control Flow - Assignment Questions\n"
   ]
  },
  {
   "cell_type": "raw",
   "id": "f52f2384-670b-45b6-9292-8e77830a20b1",
   "metadata": {},
   "source": [
    "Basic If-Else Statements:"
   ]
  },
  {
   "cell_type": "raw",
   "id": "b7852158-04c3-4e4d-9735-a3afc57fc82a",
   "metadata": {},
   "source": []
  },
  {
   "cell_type": "code",
   "execution_count": 4,
   "id": "13531724-73ef-4ee5-932f-dde2ba4947b4",
   "metadata": {},
   "outputs": [
    {
     "name": "stdin",
     "output_type": "stream",
     "text": [
      "Enter the number :  -10\n"
     ]
    },
    {
     "name": "stdout",
     "output_type": "stream",
     "text": [
      "Entered value if negative\n"
     ]
    }
   ],
   "source": [
    "#1. Write a Python program to check if a given number is positive or negative.\n",
    "\n",
    "a = int(input('Enter the number : '))\n",
    "if a>0:\n",
    "    print('Entered value if positive')\n",
    "elif a == 0:\n",
    "    print('Entered 0 whcih is non-positive or negative')\n",
    "else:\n",
    "    print('Entered value if negative')"
   ]
  },
  {
   "cell_type": "code",
   "execution_count": 7,
   "id": "fab440f9-0e29-43f4-90ca-4f6ef25acb48",
   "metadata": {},
   "outputs": [
    {
     "name": "stdin",
     "output_type": "stream",
     "text": [
      "Enter the age :  19\n"
     ]
    },
    {
     "name": "stdout",
     "output_type": "stream",
     "text": [
      "You are eligible to vote\n"
     ]
    }
   ],
   "source": [
    "#2. Create a program that determines if a person is eligible to vote based on their age.\n",
    "\n",
    "age = int(input('Enter the age : '))\n",
    "if age >= 18:\n",
    "    print('You are eligible to vote')\n",
    "else:\n",
    "    print('You are not eligible to vote')"
   ]
  },
  {
   "cell_type": "code",
   "execution_count": 10,
   "id": "b98a0b6a-06cb-44d8-906b-161afb83655c",
   "metadata": {},
   "outputs": [
    {
     "name": "stdin",
     "output_type": "stream",
     "text": [
      "Enter first number :  12\n",
      "Enter second number :  19\n"
     ]
    },
    {
     "name": "stdout",
     "output_type": "stream",
     "text": [
      "first number is smaller than second number\n"
     ]
    }
   ],
   "source": [
    "#3. Develop a program to find the maximum of two numbers using if-else statements\n",
    "\n",
    "first_num = int(input('Enter first number : '))\n",
    "second_num = int(input('Enter second number : '))\n",
    "if first_num > second_num:\n",
    "    print('first number is gretter than second number')\n",
    "elif first_num == second_num:\n",
    "    print('first number is equal to second number')\n",
    "else:\n",
    "    print('first number is smaller than second number')"
   ]
  },
  {
   "cell_type": "code",
   "execution_count": 15,
   "id": "efe70f94-41b2-42ef-bd59-0415d027f0ca",
   "metadata": {},
   "outputs": [
    {
     "name": "stdin",
     "output_type": "stream",
     "text": [
      "Enter the year :  2024\n"
     ]
    },
    {
     "name": "stdout",
     "output_type": "stream",
     "text": [
      "Entered year is a leap year\n"
     ]
    }
   ],
   "source": [
    "#4. Write a Python script to classify a given year as a leap year or not.\n",
    "\n",
    "year = int(input('Enter the year : '))\n",
    "\n",
    "if year%4 == 0:\n",
    "    print('Entered year is a leap year')\n",
    "else:\n",
    "    print('Entered year is not leap year')"
   ]
  },
  {
   "cell_type": "code",
   "execution_count": 24,
   "id": "c03bdfce-6365-4a60-bd96-41c56e3c54dc",
   "metadata": {},
   "outputs": [
    {
     "name": "stdin",
     "output_type": "stream",
     "text": [
      "Enter an alphabet :  A\n"
     ]
    },
    {
     "name": "stdout",
     "output_type": "stream",
     "text": [
      "character is a vowel\n"
     ]
    }
   ],
   "source": [
    "#5. Create a program that checks whether a character is a vowel or a consonant.\n",
    "\n",
    "char = input('Enter an alphabet : ')\n",
    "vovels = ['a','e','i','o','u']\n",
    "if char.lower() in vovels:\n",
    "    print('character is a vowel')\n",
    "else:\n",
    "    print('character is a consonant')\n"
   ]
  },
  {
   "cell_type": "code",
   "execution_count": 29,
   "id": "832c8b31-edd3-4428-9f54-7b85905bfadc",
   "metadata": {},
   "outputs": [
    {
     "name": "stdin",
     "output_type": "stream",
     "text": [
      "Enter the number :  14\n"
     ]
    },
    {
     "name": "stdout",
     "output_type": "stream",
     "text": [
      "Entered number is even.\n"
     ]
    }
   ],
   "source": [
    "#6. Implement a program to determine whether a given number is even or odd.\n",
    "\n",
    "num = int(input('Enter the number : '))\n",
    "if num%2 ==0:\n",
    "    print('Entered number is even.')\n",
    "else:\n",
    "    print('Entered numbr is odd.')"
   ]
  },
  {
   "cell_type": "code",
   "execution_count": 67,
   "id": "1b132131-d98c-4fd3-8a2f-861bfd2111b9",
   "metadata": {},
   "outputs": [
    {
     "name": "stdin",
     "output_type": "stream",
     "text": [
      "Enter the number :  1+3j\n"
     ]
    },
    {
     "name": "stdout",
     "output_type": "stream",
     "text": [
      "solution =  3.1622776601683795\n"
     ]
    }
   ],
   "source": [
    "#7. Write a Python function to calculate the absolute value of a number without using the `abs()` function.\n",
    "\n",
    "num = eval(input('Enter the number : '))\n",
    "\n",
    "if type(num) is complex:\n",
    "    print('solution = ' , ((((num.real)**2 )+((num.imag)**2 ))**0.5))\n",
    "\n",
    "else:\n",
    "    if num<0:\n",
    "        print('Solution = ', (-1*(num)))\n",
    "    else:\n",
    "        print('Solution = ', num)\n",
    "\n",
    "\n",
    "    "
   ]
  },
  {
   "cell_type": "code",
   "execution_count": 70,
   "id": "b1260d60-5578-4dce-b2ab-068950d7000e",
   "metadata": {},
   "outputs": [
    {
     "name": "stdin",
     "output_type": "stream",
     "text": [
      "Enter first number :  2\n",
      "Enter second number :  3\n",
      "Enter third number :  1\n"
     ]
    },
    {
     "name": "stdout",
     "output_type": "stream",
     "text": [
      "second number is grettest\n"
     ]
    }
   ],
   "source": [
    "#8. Develop a program that determines the largest of three given numbers using if-else statements.\n",
    "\n",
    "first_num = int(input('Enter first number : '))\n",
    "second_num = int(input('Enter second number : '))\n",
    "third_num = int(input('Enter third number : '))\n",
    "\n",
    "if first_num > second_num > third_num:\n",
    "    print('first number is grettest')\n",
    "else:\n",
    "    if second_num > third_num:\n",
    "        print('second number is grettest')\n",
    "    else:\n",
    "        print('Third number is grettest')\n",
    "        \n"
   ]
  },
  {
   "cell_type": "code",
   "execution_count": 74,
   "id": "2fb2c23e-3886-4c6e-9040-15366a15d981",
   "metadata": {},
   "outputs": [
    {
     "name": "stdin",
     "output_type": "stream",
     "text": [
      "enter any palindrome word 101\n"
     ]
    },
    {
     "name": "stdout",
     "output_type": "stream",
     "text": [
      "The entered string is palindrome\n"
     ]
    }
   ],
   "source": [
    "#9. Create a program that checks if a given string is a palindrome.\n",
    "\n",
    "b = input('enter any palindrome word')\n",
    "if b ==  b[::-1] : \n",
    "    print('The entered string is palindrome') \n",
    "else :\n",
    "    print('The entered string is not palindrome') "
   ]
  },
  {
   "cell_type": "code",
   "execution_count": 1,
   "id": "7c83cfa6-6cae-4cd3-a819-c2a775b06b8b",
   "metadata": {},
   "outputs": [
    {
     "name": "stdin",
     "output_type": "stream",
     "text": [
      "Enter the score :  50\n"
     ]
    },
    {
     "name": "stdout",
     "output_type": "stream",
     "text": [
      "C grade\n"
     ]
    }
   ],
   "source": [
    "#10. Write a Python program to calculate the grade based on a student's score.\n",
    "\n",
    "# 100 - 80 - A\n",
    "# 80 - 60 - B\n",
    "# 60 - 40 - C\n",
    "# below 40 -D\n",
    "\n",
    "score = int(input('Enter the score : '))\n",
    "\n",
    "if 100 >= score >40:\n",
    "    if 100 >= score > 60:\n",
    "        if 100 >= score > 80:\n",
    "            print('A grade')\n",
    "        else:\n",
    "            print('B grade')\n",
    "    else:\n",
    "        print('C grade')\n",
    "else:\n",
    "    print('D grade')\n",
    "    "
   ]
  },
  {
   "cell_type": "raw",
   "id": "fe2aff7b-483d-4a38-932c-85d0c90ecda9",
   "metadata": {},
   "source": []
  },
  {
   "cell_type": "raw",
   "id": "76b84f65-d145-4d24-9e29-95d8e6ded168",
   "metadata": {},
   "source": [
    "Nested If-Else Statements:"
   ]
  },
  {
   "cell_type": "raw",
   "id": "9db3e2ec-b26e-43bd-b18f-5c8dc5007f6b",
   "metadata": {},
   "source": []
  },
  {
   "cell_type": "code",
   "execution_count": 4,
   "id": "364d1fcf-2360-452d-9df6-7bbf8325263a",
   "metadata": {},
   "outputs": [
    {
     "name": "stdin",
     "output_type": "stream",
     "text": [
      "Enter first number :  1\n",
      "Enter second number :  3\n",
      "Enter third number :  2\n"
     ]
    },
    {
     "name": "stdout",
     "output_type": "stream",
     "text": [
      "Third number is grettest\n"
     ]
    }
   ],
   "source": [
    "#11. Write a program to find the largest among three numbers using nested if-else statements.\n",
    "\n",
    "first_num = int(input('Enter first number : '))\n",
    "second_num = int(input('Enter second number : '))\n",
    "third_num = int(input('Enter third number : '))\n",
    "\n",
    "if first_num > second_num > third_num:\n",
    "    print('first number is grettest')\n",
    "elif second_num > first_num > third_num:\n",
    "    print('second number is grettest')\n",
    "else:\n",
    "    print('Third number is grettest')\n",
    "        "
   ]
  },
  {
   "cell_type": "code",
   "execution_count": 8,
   "id": "76cb804d-9cdd-46c7-93fb-90285fb99e6e",
   "metadata": {},
   "outputs": [
    {
     "name": "stdin",
     "output_type": "stream",
     "text": [
      "Enter first angle :  1\n",
      "Enter second angle :  2\n",
      "Enter third angle :  2\n"
     ]
    },
    {
     "name": "stdout",
     "output_type": "stream",
     "text": [
      "isosceles triangle\n"
     ]
    }
   ],
   "source": [
    "#12. Implement a program to determine if a triangle is equilateral, isosceles, or scalene.\n",
    "\n",
    "first_num = int(input('Enter first angle : '))\n",
    "second_num = int(input('Enter second angle : '))\n",
    "third_num = int(input('Enter third angle : '))\n",
    "\n",
    "if first_num == second_num != third_num or first_num == third_num != second_num or second_num == third_num != first_num :\n",
    "    print('isosceles triangle')\n",
    "elif first_num == second_num == third_num:\n",
    "    print('equilateral triangle')\n",
    "else:\n",
    "    print('scalene triangle')\n",
    "    "
   ]
  },
  {
   "cell_type": "code",
   "execution_count": 20,
   "id": "b2cb5f73-7a24-4efe-a3e7-c42f90193d32",
   "metadata": {},
   "outputs": [
    {
     "name": "stdin",
     "output_type": "stream",
     "text": [
      "Enter the year :  1000\n"
     ]
    },
    {
     "name": "stdout",
     "output_type": "stream",
     "text": [
      "Entered year is a leap year & century year\n"
     ]
    }
   ],
   "source": [
    "#13. Develop a program that checks if a year is a leap year and also if it is a century year.\n",
    "\n",
    "year = int(input('Enter the year : '))\n",
    "\n",
    "if year%4 == 0 and year%100 !=0:\n",
    "    print('Entered year is a leap year but not century year')\n",
    "elif year%4 == 0 and year%100 ==0:\n",
    "    print('Entered year is a leap year & century year')\n",
    "else:\n",
    "    print('Entered year is not leap year')"
   ]
  },
  {
   "cell_type": "code",
   "execution_count": 18,
   "id": "37cfd5ca-feb5-4bb9-a427-023b80ced0a6",
   "metadata": {},
   "outputs": [
    {
     "name": "stdin",
     "output_type": "stream",
     "text": [
      "Enter the number :  -6\n"
     ]
    },
    {
     "name": "stdout",
     "output_type": "stream",
     "text": [
      "Entered value if negative\n"
     ]
    }
   ],
   "source": [
    "#14. Write a Python script to determine if a number is positive, negative, or zero.\n",
    "\n",
    "\n",
    "a = int(input('Enter the number : '))\n",
    "\n",
    "if a != 0:\n",
    "    if a>0:\n",
    "        print('Entered value if positive')\n",
    "    if a<0:\n",
    "        print('Entered value if negative')\n",
    "else:\n",
    "    print('Entered number is 0')\n",
    "\n",
    "    \n",
    "    "
   ]
  },
  {
   "cell_type": "code",
   "execution_count": 29,
   "id": "694929f3-2a78-462b-81db-aed8f29594e7",
   "metadata": {},
   "outputs": [
    {
     "name": "stdin",
     "output_type": "stream",
     "text": [
      "Enter the age :  14\n"
     ]
    },
    {
     "name": "stdout",
     "output_type": "stream",
     "text": [
      "person is a teenager\n"
     ]
    }
   ],
   "source": [
    "#15. Create a program to check if a person is a teenager (between 13 and 19 years old).\n",
    "\n",
    "age = int(input('Enter the age : '))\n",
    "if 13 < age < 19:\n",
    "    print('person is a teenager')\n",
    "elif age <=  13:\n",
    "    print('person is a child ')\n",
    "else:\n",
    "    print('person is an adult ')\n"
   ]
  },
  {
   "cell_type": "code",
   "execution_count": 34,
   "id": "02eaf5e0-b73a-4bb2-8c48-fa231aeb2881",
   "metadata": {},
   "outputs": [
    {
     "name": "stdin",
     "output_type": "stream",
     "text": [
      "Enter the angle measurement :  120\n"
     ]
    },
    {
     "name": "stdout",
     "output_type": "stream",
     "text": [
      "obtuse angle\n"
     ]
    }
   ],
   "source": [
    "#16. Develop a program that determines the type of angle based on its measure (acute, obtuse, or right).\n",
    "\n",
    "angle = int(input('Enter the angle measurement : '))\n",
    "\n",
    "if angle < 90 :\n",
    "    print('Acute angle')\n",
    "elif angle > 90:\n",
    "    print('obtuse angle')\n",
    "else:\n",
    "    print('Right angle')"
   ]
  },
  {
   "cell_type": "code",
   "execution_count": 48,
   "id": "76d1eede-ba40-45fb-9bb0-d0e8e305c418",
   "metadata": {},
   "outputs": [
    {
     "name": "stdout",
     "output_type": "stream",
     "text": [
      "ax^2 + bx + c\n"
     ]
    },
    {
     "name": "stdin",
     "output_type": "stream",
     "text": [
      "Enter the value of a for the above equation :  8\n",
      "Enter the value of b for the above equation :  5\n",
      "Enter the value of c for the above equation :  9\n"
     ]
    },
    {
     "name": "stdout",
     "output_type": "stream",
     "text": [
      "roots are (-0.31249999999999994+1.0135796712641785j)and(-0.31250000000000006-1.0135796712641785j)\n"
     ]
    }
   ],
   "source": [
    "#17. Write a Python program to calculate the roots of a quadratic equation.\n",
    "\n",
    "print(\"ax^2 + bx + c\")\n",
    "a = int(input('Enter the value of a for the above equation : '))\n",
    "b = int(input('Enter the value of b for the above equation : '))\n",
    "c = int(input('Enter the value of c for the above equation : '))\n",
    "\n",
    "x1 = (-b + ((b**2)-(4*a*c))**0.5)/(2*a)\n",
    "x2 = (-b - ((b**2)-(4*a*c))**0.5)/(2*a)\n",
    "\n",
    "print('roots are', str((x1)) +'and'+str((x2)))"
   ]
  },
  {
   "cell_type": "code",
   "execution_count": 15,
   "id": "4bc9dac1-1fa1-4172-9101-a567c5e43e7b",
   "metadata": {},
   "outputs": [
    {
     "name": "stdin",
     "output_type": "stream",
     "text": [
      "Enter the day :  7\n"
     ]
    },
    {
     "name": "stdout",
     "output_type": "stream",
     "text": [
      "Sunday\n"
     ]
    }
   ],
   "source": [
    "#18. Implement a program to determine the day of the week based on a user-provided number (1 for Monday, 2 for Tuesday, etc.).\n",
    "\n",
    "Num = input('Enter the day : ')\n",
    "\n",
    "if Num == '1':\n",
    "    print('Monday')\n",
    "elif Num == '2':\n",
    "    print('Tuesday')\n",
    "elif Num == '3':\n",
    "    print('Wednesday')\n",
    "elif Num == '4':\n",
    "    print('Thursday')\n",
    "elif Num == '5':\n",
    "    print('Friday')\n",
    "elif Num == '6':\n",
    "    print('Saturday')\n",
    "elif Num == '7':\n",
    "    print('Sunday')\n",
    "else:\n",
    "    print('Invalid input')"
   ]
  },
  {
   "cell_type": "code",
   "execution_count": 56,
   "id": "70370877-5167-4fb7-967b-592414dc580e",
   "metadata": {},
   "outputs": [
    {
     "name": "stdin",
     "output_type": "stream",
     "text": [
      "Enter the year :  1200\n"
     ]
    },
    {
     "name": "stdout",
     "output_type": "stream",
     "text": [
      "Entered year is a leap year & evenly divisible by 400\n"
     ]
    }
   ],
   "source": [
    "#19. Create a program that determines if a year is a leap year and also if it is evenly divisible by 400.\n",
    "\n",
    "year = int(input('Enter the year : '))\n",
    "\n",
    "if year%4 == 0 and year%400 !=0:\n",
    "    print('Entered year is a leap year but not evenly divisible by 400')\n",
    "elif year%4 == 0 and year%400 ==0:\n",
    "    print('Entered year is a leap year & evenly divisible by 400')\n",
    "else:\n",
    "    print('Entered year is not leap year')"
   ]
  },
  {
   "cell_type": "code",
   "execution_count": 66,
   "id": "1d874e52-db1f-4d68-8fdd-aa38a752d6ab",
   "metadata": {},
   "outputs": [
    {
     "name": "stdin",
     "output_type": "stream",
     "text": [
      "Enter the number :  103\n"
     ]
    },
    {
     "name": "stdout",
     "output_type": "stream",
     "text": [
      "Prime\n"
     ]
    }
   ],
   "source": [
    "#20. Develop a program that checks if a given number is prime or not using nested if-else statements.\n",
    "\n",
    "num = int(input('Enter the number : '))\n",
    "\n",
    "for x in range(2,num+1):\n",
    "    if num % x == 0:\n",
    "            break\n",
    "if num == x:\n",
    "    print('Prime')\n",
    "else:\n",
    "    print('Not prime')"
   ]
  },
  {
   "cell_type": "raw",
   "id": "e0f41c8c-7b1d-48a6-9ddc-bb7877fd2d2a",
   "metadata": {},
   "source": []
  },
  {
   "cell_type": "raw",
   "id": "43cea310-d02d-4628-a75a-7a1f57f7f4f0",
   "metadata": {},
   "source": [
    "Elif Statements:"
   ]
  },
  {
   "cell_type": "raw",
   "id": "b5b4ca88-db57-4c71-ae5e-6866974390ee",
   "metadata": {},
   "source": []
  },
  {
   "cell_type": "code",
   "execution_count": 5,
   "id": "baa50541-7f7c-4e3a-9f2d-eddafa57ac7a",
   "metadata": {},
   "outputs": [
    {
     "name": "stdin",
     "output_type": "stream",
     "text": [
      "Enter the score :  75\n"
     ]
    },
    {
     "name": "stdout",
     "output_type": "stream",
     "text": [
      "B grade\n"
     ]
    }
   ],
   "source": [
    "#21. Write a Python program to assign grades based on different ranges of scores using elif statements.\n",
    "\n",
    "# 100 - 80 - A\n",
    "# 80 - 60 - B\n",
    "# 60 - 40 - C\n",
    "# below 40 -D\n",
    "\n",
    "score = int(input('Enter the score : '))\n",
    "\n",
    "if 100 >= score > 80:\n",
    "    print('A grade')\n",
    "\n",
    "elif 80 >= score > 60:\n",
    "    print('B grade')\n",
    "\n",
    "elif 60 >= score > 40:\n",
    "    print('C grade')\n",
    "    \n",
    "else:\n",
    "    print('D grade')"
   ]
  },
  {
   "cell_type": "code",
   "execution_count": 12,
   "id": "a0790267-8ed0-4368-a64c-5b1225e5135e",
   "metadata": {},
   "outputs": [
    {
     "name": "stdin",
     "output_type": "stream",
     "text": [
      "Enter first angle :  60\n",
      "Enter second angle :  60\n",
      "Enter third angle :  60\n"
     ]
    },
    {
     "name": "stdout",
     "output_type": "stream",
     "text": [
      "equilateral triangle\n"
     ]
    }
   ],
   "source": [
    "#22. Implement a program to determine the type of a triangle based on its angles.\n",
    "\n",
    "first_num = int(input('Enter first angle : '))\n",
    "second_num = int(input('Enter second angle : '))\n",
    "third_num = int(input('Enter third angle : '))\n",
    "\n",
    "\n",
    "if (first_num+second_num+third_num) == 180:\n",
    "    if first_num == second_num != third_num or first_num == third_num != second_num or second_num == third_num != first_num :\n",
    "        print('isosceles triangle')\n",
    "    elif first_num == second_num == third_num:\n",
    "        print('equilateral triangle')\n",
    "    else:\n",
    "        print('scalene triangle')\n",
    "else:\n",
    "    print('Invalid angle measurements, sum of angles must be 180')"
   ]
  },
  {
   "cell_type": "code",
   "execution_count": 15,
   "id": "df221c3c-636e-4e5a-8f5b-8850282cb9c9",
   "metadata": {},
   "outputs": [
    {
     "name": "stdin",
     "output_type": "stream",
     "text": [
      "Enter the score :  82\n"
     ]
    },
    {
     "name": "stdout",
     "output_type": "stream",
     "text": [
      "overweight\n"
     ]
    }
   ],
   "source": [
    "#23. Develop a program to categorize a given person's BMI into underweight, normal, overweight, or obese using elif statements.\n",
    "\n",
    "# above 90 - obese\n",
    "# 90 - 70 - overweight\n",
    "# 70 - 40 - normal\n",
    "# below 40 -underweight\n",
    "\n",
    "BMI = int(input('Enter the score : '))\n",
    "\n",
    "if BMI > 90:\n",
    "    print('obese')\n",
    "\n",
    "elif 90 >= BMI > 70:\n",
    "    print('overweight')\n",
    "\n",
    "elif 70 >= BMI > 40:\n",
    "    print('normal')\n",
    "    \n",
    "else:\n",
    "    print('underweight')"
   ]
  },
  {
   "cell_type": "code",
   "execution_count": 19,
   "id": "3d618926-0cc8-444d-9ef3-91af86fc0678",
   "metadata": {},
   "outputs": [
    {
     "name": "stdin",
     "output_type": "stream",
     "text": [
      "Enter the number :  -6\n"
     ]
    },
    {
     "name": "stdout",
     "output_type": "stream",
     "text": [
      "Entered value if negative\n"
     ]
    }
   ],
   "source": [
    "#24. Create a program that determines whether a given number is positive, negative, or zero using elif statements.\n",
    "\n",
    "\n",
    "a = int(input('Enter the number : '))\n",
    "if a>0:\n",
    "    print('Entered value if positive')\n",
    "elif a == 0:\n",
    "    print('Entered number is 0')\n",
    "else:\n",
    "    print('Entered value if negative')\n",
    "    \n"
   ]
  },
  {
   "cell_type": "code",
   "execution_count": 57,
   "id": "83dc0a0e-f607-42ee-9de3-81228502518d",
   "metadata": {},
   "outputs": [
    {
     "name": "stdin",
     "output_type": "stream",
     "text": [
      "Enter the character :  A\n"
     ]
    },
    {
     "name": "stdout",
     "output_type": "stream",
     "text": [
      "character is uppercase\n"
     ]
    }
   ],
   "source": [
    "#25. Write a Python script to determine the type of a character (uppercase, lowercase, or special) using elif statements.\n",
    "\n",
    "char = input('Enter the character : ')\n",
    "\n",
    "if char.isupper():\n",
    "    print('character is uppercase')\n",
    "elif char.islower():\n",
    "    print('character is lowercase')\n",
    "else:\n",
    "    if char.isnumeric():\n",
    "        print('number')\n",
    "    else:\n",
    "        print('Special character')"
   ]
  },
  {
   "cell_type": "code",
   "execution_count": 62,
   "id": "7c98642e-9559-47da-8d70-ac20d55a28b6",
   "metadata": {},
   "outputs": [
    {
     "name": "stdin",
     "output_type": "stream",
     "text": [
      "Enter the purchase amounts :  2000\n"
     ]
    },
    {
     "name": "stdout",
     "output_type": "stream",
     "text": [
      "discounted price =  2000.0\n"
     ]
    }
   ],
   "source": [
    "#26. Implement a program to calculate the discounted price based on different purchase amounts using elif statements.\n",
    "\n",
    "\n",
    "\n",
    "purchase_amount =  int(input('Enter the purchase amounts : '))\n",
    "discount = 0\n",
    "\n",
    "if purchase_amount > 9000:\n",
    "    discount = 10\n",
    "\n",
    "elif 9000 >= purchase_amount > 7000:\n",
    "    discount = 8\n",
    "\n",
    "elif 7000 >= purchase_amount > 6000:\n",
    "    discount = 6\n",
    "    \n",
    "else:\n",
    "    if purchase_amount > 4000:\n",
    "        discount = 5\n",
    "\n",
    "final_amount  = purchase_amount -  (purchase_amount * (discount/100))\n",
    "\n",
    "print('discounted price = ', final_amount) "
   ]
  },
  {
   "cell_type": "code",
   "execution_count": 66,
   "id": "b05d00ea-0175-4ae8-8b31-98ef4c22b2b6",
   "metadata": {},
   "outputs": [
    {
     "name": "stdin",
     "output_type": "stream",
     "text": [
      "Enter the electricity consumption in units :  250\n"
     ]
    },
    {
     "name": "stdout",
     "output_type": "stream",
     "text": [
      "electricity bill amount =  3750\n"
     ]
    }
   ],
   "source": [
    "#27. Develop a program to calculate the electricity bill based on different consumption slabs using elif statements.\n",
    "\n",
    "units = int(input('Enter the electricity consumption in units : '))\n",
    "\n",
    "if units > 500 :\n",
    "    per_unit_cost = 20 \n",
    "elif 300 >= units > 200 :\n",
    "    per_unit_cost = 15\n",
    "else:\n",
    "    per_unit_cost = 10\n",
    "\n",
    "\n",
    "print('electricity bill amount = ',(units * per_unit_cost) )"
   ]
  },
  {
   "cell_type": "code",
   "execution_count": 94,
   "id": "75ecb79f-db4f-415e-92ea-09acf5d94c38",
   "metadata": {},
   "outputs": [
    {
     "name": "stdin",
     "output_type": "stream",
     "text": [
      "Enter the length of side AB :  1\n",
      "Enter the length of side BC :  1\n",
      "Enter the length of side CD :  1\n",
      "Enter the length of side AD :  1\n",
      "Enter the angle A :  1\n",
      "Enter the angle B :  2\n",
      "Enter the angle C :  1\n",
      "Enter the angle D :  2\n"
     ]
    },
    {
     "name": "stdout",
     "output_type": "stream",
     "text": [
      "Rhombus\n"
     ]
    }
   ],
   "source": [
    "# 28. Create a program to determine the type of quadrilateral based on its angles and sides using elif statements.\n",
    "\n",
    "'''\n",
    "Trapezium - all sides diffrent\n",
    "Parallelogram - opp sides are same, opp angles are same\n",
    "Rectangle - opp sides are same, all angles are 90 degree\n",
    "Rhombus - all sides same, opp angles are same\n",
    "Square - all sides same,  all angles are 90 degree\n",
    "Kite - adj sides are same\n",
    "\n",
    "A   B\n",
    "\n",
    "D    C\n",
    "\n",
    "'''\n",
    "\n",
    "AB = int(input('Enter the length of side AB : '))\n",
    "BC = int(input('Enter the length of side BC : '))\n",
    "CD = int(input('Enter the length of side CD : '))\n",
    "AD = int(input('Enter the length of side AD : '))\n",
    "\n",
    "angle_A = int(input('Enter the angle A : '))\n",
    "angle_B = int(input('Enter the angle B : '))\n",
    "angle_C = int(input('Enter the angle C : '))\n",
    "angle_D = int(input('Enter the angle D : '))\n",
    "\n",
    "if AB != CD != CD != BC and angle_A != angle_B != angle_C != angle_D:\n",
    "    print('Trapezium')\n",
    "elif AB == CD != BC and BC == AD != CD and angle_A == angle_C != 90 and angle_B == angle_D != 90:\n",
    "    print('Parallelogram')\n",
    "elif AB == CD != BC and BC == AD != CD and angle_A == angle_B==angle_C==angle_D==90:\n",
    "    print('Rectangle')\n",
    "elif AB == BC == CD == AD and angle_A == angle_C != 90 and angle_B == angle_D != 90:\n",
    "    print('Rhombus')\n",
    "elif AB == BC == CD == AD and angle_A == angle_B==angle_C==angle_D==90:\n",
    "    print('Square')\n",
    "else:\n",
    "    if angle_A == angle_C and angle_B != angle_D:\n",
    "        print('Kite')\n",
    "    else:\n",
    "        print('invallid inputs')"
   ]
  },
  {
   "cell_type": "code",
   "execution_count": 99,
   "id": "12b5fa4e-86f7-4f5d-a661-a97f0a7c7e3e",
   "metadata": {},
   "outputs": [
    {
     "name": "stdin",
     "output_type": "stream",
     "text": [
      "Enter the month :  january\n"
     ]
    },
    {
     "name": "stdout",
     "output_type": "stream",
     "text": [
      "winter\n"
     ]
    }
   ],
   "source": [
    "#29. Write a Python script to determine the season based on a user-provided month using elif statements\n",
    "\n",
    "month = input('Enter the month : ')\n",
    "\n",
    "'''\n",
    "summer = [june,july,august]\n",
    "winter = [december, january, february]\n",
    "spring = [march, april, may]\n",
    "autumn = [september,october,november]\n",
    "'''\n",
    "\n",
    "if month.lower() in ['june','july','august']:\n",
    "    print('summer')\n",
    "\n",
    "elif month.lower() in ['december', 'january', 'february']:\n",
    "    print('winter')\n",
    "\n",
    "elif month.lower() in ['march', 'april', 'may']:\n",
    "    print('spring')\n",
    "    \n",
    "elif month.lower() in ['september','october','november']:\n",
    "    print('autumn')\n",
    "else:\n",
    "    print('invalid input')\n",
    "    "
   ]
  },
  {
   "cell_type": "code",
   "execution_count": null,
   "id": "c73435a4-7b2e-4db9-8bcb-bdafab2adf72",
   "metadata": {},
   "outputs": [
    {
     "name": "stdin",
     "output_type": "stream",
     "text": [
      "Enter the year :  3224\n",
      "Enter the Month :  dovnow\n"
     ]
    },
    {
     "name": "stdout",
     "output_type": "stream",
     "text": [
      "Entered year is a leap year\n",
      "Invalid input\n"
     ]
    }
   ],
   "source": [
    "#30. Implement a program to determine the type of a year (leap or common) and month (30 or 31 days) using elif statements.\n",
    "\n",
    "year = int(input('Enter the year : '))\n",
    "month = input('Enter the Month : ')\n",
    "\n",
    "if year%4 == 0:\n",
    "    print('Entered year is a leap year')\n",
    "    if month.title() in ['January', 'March', 'May', 'July', 'August', 'October','December']:\n",
    "        print('31 days')\n",
    "    elif month.title() == 'February' :\n",
    "        print('29 days')\n",
    "    else:\n",
    "        if month.title() in ['April', 'June','September','November']:\n",
    "            print('30days')\n",
    "        else:\n",
    "            print('Invalid input')\n",
    "else:\n",
    "    print('Entered year is not leap year')\n",
    "    if month.title() in ['January', 'March', 'May', 'July', 'August', 'October','December']:\n",
    "        print('31 days')\n",
    "    elif month.title() == 'February' :\n",
    "        print('28 days')\n",
    "    else:\n",
    "        if month.title() in ['April', 'June','September','November']:\n",
    "            print('30days')\n",
    "        else:\n",
    "            print('Invalid input')"
   ]
  },
  {
   "cell_type": "raw",
   "id": "f30c1a11-658b-4bd3-b296-7224f819713d",
   "metadata": {},
   "source": []
  },
  {
   "cell_type": "raw",
   "id": "a584d22d-d496-4d7f-9aaf-2cd1629663b2",
   "metadata": {},
   "source": [
    "Basic Level:"
   ]
  },
  {
   "cell_type": "raw",
   "id": "a1db65d8-0c09-45cd-98cf-81ed25ca0d53",
   "metadata": {},
   "source": []
  },
  {
   "cell_type": "code",
   "execution_count": 1,
   "id": "e350f6c2-49b5-422e-8892-f2deedc4b882",
   "metadata": {},
   "outputs": [
    {
     "name": "stdin",
     "output_type": "stream",
     "text": [
      "Enter the number :  3\n"
     ]
    },
    {
     "name": "stdout",
     "output_type": "stream",
     "text": [
      "Entered value if positive\n"
     ]
    }
   ],
   "source": [
    "#1. Write a Python program that checks if a given number is positive, negative, or zero.\n",
    "\n",
    "\n",
    "a = int(input('Enter the number : '))\n",
    "if a>0:\n",
    "    print('Entered value if positive')\n",
    "elif a == 0:\n",
    "    print('Entered number is 0')\n",
    "else:\n",
    "    print('Entered value if negative')\n",
    "    "
   ]
  },
  {
   "cell_type": "code",
   "execution_count": 2,
   "id": "5173d40a-8ae7-4e28-8c1e-0cc35f020cc5",
   "metadata": {},
   "outputs": [
    {
     "name": "stdin",
     "output_type": "stream",
     "text": [
      "Enter the age :  56\n"
     ]
    },
    {
     "name": "stdout",
     "output_type": "stream",
     "text": [
      "You are eligible to vote\n"
     ]
    }
   ],
   "source": [
    "#2. Create a program to determine if a person is eligible to vote based on their age.\n",
    "\n",
    "age = int(input('Enter the age : '))\n",
    "if age >= 18:\n",
    "    print('You are eligible to vote')\n",
    "else:\n",
    "    print('You are not eligible to vote')"
   ]
  },
  {
   "cell_type": "code",
   "execution_count": 3,
   "id": "eb12e747-a112-491d-9979-1ecae86f9cf6",
   "metadata": {},
   "outputs": [
    {
     "name": "stdin",
     "output_type": "stream",
     "text": [
      "Enter first number :  2\n",
      "Enter second number :  5\n"
     ]
    },
    {
     "name": "stdout",
     "output_type": "stream",
     "text": [
      "first number is smaller than second number\n"
     ]
    }
   ],
   "source": [
    "#3. Write a program to find the maximum of two given numbers using conditional statements.\n",
    "\n",
    "first_num = int(input('Enter first number : '))\n",
    "second_num = int(input('Enter second number : '))\n",
    "if first_num > second_num:\n",
    "    print('first number is gretter than second number')\n",
    "elif first_num == second_num:\n",
    "    print('first number is equal to second number')\n",
    "else:\n",
    "    print('first number is smaller than second number')"
   ]
  },
  {
   "cell_type": "code",
   "execution_count": 4,
   "id": "36b98ed7-debf-4c80-bcdb-1d13585b40f0",
   "metadata": {},
   "outputs": [
    {
     "name": "stdin",
     "output_type": "stream",
     "text": [
      "Enter the score :  45\n"
     ]
    },
    {
     "name": "stdout",
     "output_type": "stream",
     "text": [
      "C grade\n"
     ]
    }
   ],
   "source": [
    "#4. Develop a program that calculates the grade of a student based on their exam score.\n",
    "\n",
    "# 100 - 80 - A\n",
    "# 80 - 60 - B\n",
    "# 60 - 40 - C\n",
    "# below 40 -D\n",
    "\n",
    "score = int(input('Enter the score : '))\n",
    "\n",
    "if 100 >= score > 80:\n",
    "    print('A grade')\n",
    "\n",
    "elif 80 >= score > 60:\n",
    "    print('B grade')\n",
    "\n",
    "elif 60 >= score > 40:\n",
    "    print('C grade')\n",
    "    \n",
    "else:\n",
    "    print('D grade')"
   ]
  },
  {
   "cell_type": "code",
   "execution_count": 2,
   "id": "32be9a5e-05ea-4dc5-ab69-106a86662318",
   "metadata": {},
   "outputs": [
    {
     "name": "stdin",
     "output_type": "stream",
     "text": [
      "Enter the year :  2023\n"
     ]
    },
    {
     "name": "stdout",
     "output_type": "stream",
     "text": [
      "Entered year is not leap year\n"
     ]
    }
   ],
   "source": [
    "#5. Create a program that checks if a year is a leap year or not.\n",
    "\n",
    "\n",
    "year = int(input('Enter the year : '))\n",
    "\n",
    "if year%4 == 0:\n",
    "    print('Entered year is a leap year')\n",
    "else:\n",
    "    print('Entered year is not leap year')"
   ]
  },
  {
   "cell_type": "code",
   "execution_count": 1,
   "id": "a6e5b7ff-ccfd-476a-96ca-d5230941f9b2",
   "metadata": {},
   "outputs": [
    {
     "name": "stdin",
     "output_type": "stream",
     "text": [
      "Enter first side :  1\n",
      "Enter second side :  2\n",
      "Enter third side :  3\n"
     ]
    },
    {
     "name": "stdout",
     "output_type": "stream",
     "text": [
      "Scalen triangle\n"
     ]
    }
   ],
   "source": [
    "# 6. Write a program to classify a triangle based on its sides' lengths.\n",
    "\n",
    "\n",
    "side1 = int(input('Enter first side : '))\n",
    "side2 = int(input('Enter second side : '))\n",
    "side3 = int(input('Enter third side : '))\n",
    "\n",
    "if side1 == side2 == side3:\n",
    "    print('Equilateral triangle')\n",
    "elif side1 == side2 or side2 == side3 or side1 == side3:\n",
    "    print('isoceles triangle')\n",
    "elif side1 != side2 and side2 != side3 and side1 != side3:\n",
    "    print('Scalen triangle')"
   ]
  },
  {
   "cell_type": "code",
   "execution_count": 3,
   "id": "8c0f3988-3bf2-48e5-9d98-b3e360ce0f27",
   "metadata": {},
   "outputs": [
    {
     "name": "stdin",
     "output_type": "stream",
     "text": [
      "Enter first number :  1\n",
      "Enter second number :  2\n",
      "Enter third number :  3\n"
     ]
    },
    {
     "name": "stdout",
     "output_type": "stream",
     "text": [
      "Third number is grettest\n"
     ]
    }
   ],
   "source": [
    "# 7. Build a program that determines the largest of three given numbers.\n",
    "\n",
    "first_num = int(input('Enter first number : '))\n",
    "second_num = int(input('Enter second number : '))\n",
    "third_num = int(input('Enter third number : '))\n",
    "\n",
    "if first_num > second_num > third_num:\n",
    "    print('first number is grettest')\n",
    "elif second_num > first_num > third_num:\n",
    "    print('second number is grettest')\n",
    "else:\n",
    "    print('Third number is grettest')"
   ]
  },
  {
   "cell_type": "code",
   "execution_count": 4,
   "id": "ff75cb6a-5a50-4966-aafd-b6350d70b7af",
   "metadata": {},
   "outputs": [
    {
     "name": "stdin",
     "output_type": "stream",
     "text": [
      "Enter an alphabet :  D\n"
     ]
    },
    {
     "name": "stdout",
     "output_type": "stream",
     "text": [
      "character is a consonant\n"
     ]
    }
   ],
   "source": [
    "#8. Develop a program that checks whether a character is a vowel or a consonant.\n",
    "\n",
    "char = input('Enter an alphabet : ')\n",
    "vovels = ['a','e','i','o','u']\n",
    "if char.lower() in vovels:\n",
    "    print('character is a vowel')\n",
    "else:\n",
    "    print('character is a consonant')"
   ]
  },
  {
   "cell_type": "code",
   "execution_count": 5,
   "id": "2f48e25e-38f5-4528-a901-5b13c899c44f",
   "metadata": {},
   "outputs": [
    {
     "name": "stdin",
     "output_type": "stream",
     "text": [
      "Enter the purchase amounts :  5000\n"
     ]
    },
    {
     "name": "stdout",
     "output_type": "stream",
     "text": [
      "total cost of a shopping cart =  4750.0\n"
     ]
    }
   ],
   "source": [
    "#9. Create a program to calculate the total cost of a shopping cart based on discounts.\n",
    "\n",
    "purchase_amount =  int(input('Enter the purchase amounts : '))\n",
    "discount = 0\n",
    "\n",
    "if purchase_amount > 9000:\n",
    "    discount = 10\n",
    "\n",
    "elif 9000 >= purchase_amount > 7000:\n",
    "    discount = 8\n",
    "\n",
    "elif 7000 >= purchase_amount > 6000:\n",
    "    discount = 6\n",
    "    \n",
    "else:\n",
    "    if purchase_amount > 4000:\n",
    "        discount = 5\n",
    "\n",
    "final_amount  = purchase_amount -  (purchase_amount * (discount/100))\n",
    "\n",
    "print('total cost of a shopping cart = ', final_amount) "
   ]
  },
  {
   "cell_type": "code",
   "execution_count": 10,
   "id": "3e396972-b679-4d3e-b532-653f1ce2f258",
   "metadata": {},
   "outputs": [
    {
     "name": "stdin",
     "output_type": "stream",
     "text": [
      "Enter the number :  6\n"
     ]
    },
    {
     "name": "stdout",
     "output_type": "stream",
     "text": [
      "Entered number is even.\n"
     ]
    }
   ],
   "source": [
    "# 10. Write a program that checks if a given number is even or odd.\n",
    "\n",
    "num = int(input('Enter the number : '))\n",
    "if num ==0:\n",
    "    print('Entered number is Whole number.')\n",
    "elif num%2 ==0:\n",
    "    print('Entered number is even.')\n",
    "else:\n",
    "    print('Entered numbr is odd.')"
   ]
  },
  {
   "cell_type": "raw",
   "id": "af4369b0-0723-41d0-ac04-8a29dedc40eb",
   "metadata": {},
   "source": []
  },
  {
   "cell_type": "raw",
   "id": "1040cc5a-037c-49dd-bebd-7c2ebeb978e1",
   "metadata": {},
   "source": [
    "Intermediate Level:"
   ]
  },
  {
   "cell_type": "raw",
   "id": "4be1cd1e-6abf-44e1-93ee-1ced44d5811c",
   "metadata": {},
   "source": []
  },
  {
   "cell_type": "code",
   "execution_count": 11,
   "id": "4ffafdd8-b103-4ece-845a-aa85ab241284",
   "metadata": {},
   "outputs": [
    {
     "name": "stdout",
     "output_type": "stream",
     "text": [
      "ax^2 + bx + c\n"
     ]
    },
    {
     "name": "stdin",
     "output_type": "stream",
     "text": [
      "Enter the value of a for the above equation :  2\n",
      "Enter the value of b for the above equation :  4\n",
      "Enter the value of c for the above equation :  8\n"
     ]
    },
    {
     "name": "stdout",
     "output_type": "stream",
     "text": [
      "roots are (-0.9999999999999999+1.7320508075688772j)and(-1-1.7320508075688772j)\n"
     ]
    }
   ],
   "source": [
    "#11. Write a program that calculates the roots of a quadratic equation .\n",
    "\n",
    "print(\"ax^2 + bx + c\")\n",
    "a = int(input('Enter the value of a for the above equation : '))\n",
    "b = int(input('Enter the value of b for the above equation : '))\n",
    "c = int(input('Enter the value of c for the above equation : '))\n",
    "\n",
    "x1 = (-b + ((b**2)-(4*a*c))**0.5)/(2*a)\n",
    "x2 = (-b - ((b**2)-(4*a*c))**0.5)/(2*a)\n",
    "\n",
    "print('roots are', str((x1)) +'and'+str((x2)))"
   ]
  },
  {
   "cell_type": "code",
   "execution_count": 14,
   "id": "42a47e5e-48e4-406f-bce3-84214583d55e",
   "metadata": {},
   "outputs": [
    {
     "name": "stdin",
     "output_type": "stream",
     "text": [
      "Enter the day :  3\n"
     ]
    },
    {
     "name": "stdout",
     "output_type": "stream",
     "text": [
      "Wednesday\n"
     ]
    }
   ],
   "source": [
    "#12. Create a program that determines the day of the week based on the day number (1-7).\n",
    "\n",
    "Num = input('Enter the day : ')\n",
    "\n",
    "if Num == '1':\n",
    "    print('Monday')\n",
    "elif Num == '2':\n",
    "    print('Tuesday')\n",
    "elif Num == '3':\n",
    "    print('Wednesday')\n",
    "elif Num == '4':\n",
    "    print('Thursday')\n",
    "elif Num == '5':\n",
    "    print('Friday')\n",
    "elif Num == '6':\n",
    "    print('Saturday')\n",
    "elif Num == '7':\n",
    "    print('Sunday')\n",
    "else:\n",
    "    print('Invalid input')"
   ]
  },
  {
   "cell_type": "code",
   "execution_count": 20,
   "id": "f89c3da6-41d9-4613-97bb-0beb3a8728a6",
   "metadata": {},
   "outputs": [
    {
     "name": "stdin",
     "output_type": "stream",
     "text": [
      "Enter the number to calculate the factorial of : 10\n"
     ]
    },
    {
     "name": "stdout",
     "output_type": "stream",
     "text": [
      "3628800\n"
     ]
    }
   ],
   "source": [
    "#13. Develop a program that calculates the factorial of a given number using recursion.\n",
    "\n",
    "value = int(input('Enter the number to calculate the factorial of :'))\n",
    "counter = 1\n",
    "list_1 = []\n",
    "for x in range(1,value+1):\n",
    "    counter = counter * x\n",
    "print(counter)"
   ]
  },
  {
   "cell_type": "code",
   "execution_count": 24,
   "id": "9ff9e5f4-7802-459a-a696-24588b170262",
   "metadata": {},
   "outputs": [
    {
     "name": "stdin",
     "output_type": "stream",
     "text": [
      "Enter first number :  2\n",
      "Enter second number :  3\n",
      "Enter third number :  4\n"
     ]
    },
    {
     "name": "stdout",
     "output_type": "stream",
     "text": [
      "Maximum =  4\n"
     ]
    }
   ],
   "source": [
    "# 14. Write a program to find the largest among three numbers without using the `max()` function.\n",
    "\n",
    "first_num = int(input('Enter first number : '))\n",
    "second_num = int(input('Enter second number : '))\n",
    "third_num = int(input('Enter third number : '))\n",
    "\n",
    "print('Maximum = ',max(first_num, second_num,third_num))"
   ]
  },
  {
   "cell_type": "code",
   "execution_count": 30,
   "id": "e5cfb4df-dddf-4f64-bb89-d6c65cf9f0ba",
   "metadata": {},
   "outputs": [
    {
     "name": "stdin",
     "output_type": "stream",
     "text": [
      "Enter Example balance :  1000\n",
      "\n",
      "\n",
      "For withrdawl - press 1\n",
      "For deposit - press 2\n",
      "For checking balance - press 3\n",
      "\n",
      " 1\n",
      "Enter the amount you want to withdraw :  300\n"
     ]
    },
    {
     "name": "stdout",
     "output_type": "stream",
     "text": [
      "Withdrawl success ! \n",
      "Availaible Balance =  700\n",
      "Thank you for using our service...\n"
     ]
    }
   ],
   "source": [
    "# 15. Create a program that simulates a basic ATM transaction menu.\n",
    "\n",
    "balance = int(input('Enter Example balance : '))\n",
    "\n",
    "value_entered = int(input('''\n",
    "\n",
    "For withrdawl - press 1\n",
    "For deposit - press 2\n",
    "For checking balance - press 3\n",
    "\n",
    "'''))\n",
    "\n",
    "if value_entered == 1:\n",
    "    withdrawl_amount = int(input('Enter the amount you want to withdraw : '))\n",
    "    print('Withdrawl success ! ')\n",
    "    print('Availaible Balance = ', balance-withdrawl_amount)\n",
    "elif value_entered == 2:\n",
    "    deposit_amount = int(input('Enter the amount you want to deposit : '))\n",
    "    print('Deposit success ! ')\n",
    "    print('Availaible Balance = ', balance+deposit_amount)\n",
    "elif value_entered == 3:\n",
    "    print('Availaible Balance = ', balance)\n",
    "else:\n",
    "    print('Invalid entry')\n",
    "    \n",
    "print('Thank you for using our service...')\n"
   ]
  },
  {
   "cell_type": "code",
   "execution_count": 31,
   "id": "a60f7cdc-9822-4ee3-98b8-de177dfa6056",
   "metadata": {},
   "outputs": [
    {
     "name": "stdin",
     "output_type": "stream",
     "text": [
      "enter any palindrome word 12321\n"
     ]
    },
    {
     "name": "stdout",
     "output_type": "stream",
     "text": [
      "The entered string is palindrome\n"
     ]
    }
   ],
   "source": [
    "#16. Build a program that checks if a given string is a palindrome or not.\n",
    "\n",
    "b = input('enter any palindrome word')\n",
    "if b ==  b[::-1] : \n",
    "    print('The entered string is palindrome') \n",
    "else :\n",
    "    print('The entered string is not palindrome') "
   ]
  },
  {
   "cell_type": "code",
   "execution_count": 45,
   "id": "6918fdad-c580-44e2-9bb9-8e5f786f0f27",
   "metadata": {},
   "outputs": [
    {
     "data": {
      "text/plain": [
       "3.5"
      ]
     },
     "execution_count": 45,
     "metadata": {},
     "output_type": "execute_result"
    }
   ],
   "source": [
    "#17. Write a program that calculates the average of a list of numbers, excluding the smallest and largest values.\n",
    "\n",
    "list_1 = [1,2,3,4,5,6]\n",
    "list_1.sort()\n",
    "list_1.remove(max(list_1))\n",
    "list_1.remove(min(list_1))\n",
    "sum(list_1)/len(list_1)"
   ]
  },
  {
   "cell_type": "code",
   "execution_count": 47,
   "id": "95e86d5c-aae3-49b9-bb35-ac74ad66d2c0",
   "metadata": {},
   "outputs": [
    {
     "name": "stdin",
     "output_type": "stream",
     "text": [
      "Enter tempreature in celsius :  43\n"
     ]
    },
    {
     "name": "stdout",
     "output_type": "stream",
     "text": [
      "tempreature in Fahrenheit :  109.4\n"
     ]
    }
   ],
   "source": [
    "#18. Develop a program that converts a given temperature from Celsius to Fahrenheit.\n",
    "\n",
    "#T(°F) = T(°C) × 1.8 + 32\n",
    "\n",
    "T_celsius = float(input('Enter tempreature in celsius : '))\n",
    "print('tempreature in Fahrenheit : ', (T_celsius * 1.8 )+32)"
   ]
  },
  {
   "cell_type": "code",
   "execution_count": 51,
   "id": "b386e19f-28af-4b6a-a8f0-9b910fd21863",
   "metadata": {},
   "outputs": [
    {
     "name": "stdin",
     "output_type": "stream",
     "text": [
      "Enter the first number :  3\n",
      "Enter the second number :  4\n",
      "\n",
      "\n",
      "For Addition - press 1\n",
      "For subtraction - press 2\n",
      "For multiplication - press 3\n",
      "For division - press 4\n",
      "\n",
      " 3\n"
     ]
    },
    {
     "name": "stdout",
     "output_type": "stream",
     "text": [
      "12\n"
     ]
    }
   ],
   "source": [
    "#19. Create a program that simulates a basic calculator for addition, subtraction, multiplication, and division.\n",
    "\n",
    "Value_1 = int(input('Enter the first number : '))\n",
    "Value_2 = int(input('Enter the second number : '))\n",
    "\n",
    "value_entered = int(input('''\n",
    "\n",
    "For Addition - press 1\n",
    "For subtraction - press 2\n",
    "For multiplication - press 3\n",
    "For division - press 4\n",
    "\n",
    "'''))\n",
    "\n",
    "if value_entered == 1:\n",
    "    print(Value_1 + Value_2)\n",
    "elif value_entered == 2:\n",
    "    print(Value_1-Value_2)\n",
    "elif value_entered == 3:\n",
    "    print(Value_1*Value_2)\n",
    "elif value_entered == 4:\n",
    "    print(Value_1/Value_2)\n",
    "else:\n",
    "    print('invalid Input')"
   ]
  },
  {
   "cell_type": "code",
   "execution_count": 37,
   "id": "0d41fc92-7eaa-4e49-b1c7-cb5a88026b33",
   "metadata": {},
   "outputs": [
    {
     "name": "stdin",
     "output_type": "stream",
     "text": [
      "Enter the value of a =  1\n",
      "Enter the value of b =  2\n",
      "Enter the value of c =  1\n",
      "Enter the value of d =  2\n"
     ]
    },
    {
     "name": "stdout",
     "output_type": "stream",
     "text": [
      "roots are =  (0.6172632706330357+0.11209818502170754j) (0.7209922241279949+0.06223050548619353j) (-1.4057115112634446-1.3898188386720518j)\n"
     ]
    }
   ],
   "source": [
    "#20. Write a program that determines the roots of a cubic equation using the Cardano formula.\n",
    "\n",
    "#ax3+bx2+cx+d = 0\n",
    "\n",
    "a = int(input('Enter the value of a = '))\n",
    "b = int(input('Enter the value of b = '))\n",
    "c = int(input('Enter the value of c = '))\n",
    "d = int(input('Enter the value of d = '))\n",
    "\n",
    "delta = (18*a*b*c*d) - (4*(b**3)*d) + ((b**2)*(c**2)) - (4*a*(c**3)) - (27*(a**2)*(d**2))\n",
    "\n",
    "R = ((9*a*b*c)-(27*(a**2)*d)-(2*(b**3)))/(54*(a**3))\n",
    "\n",
    "S = ((delta + (((delta**2)-(4*(R**3)))**(1/2)))/2)**(1/3)\n",
    "\n",
    "T = ((delta - (((delta**2)-(4*(R**3)))**(1/2)))/2)**(1/3)\n",
    "\n",
    "W1 = 1\n",
    "\n",
    "W2 = complex(-1,(3**(1/3)))/2\n",
    "\n",
    "\n",
    "x1 = ((-1)/(3*a)) * (b+(W1*S)+(W2*T))\n",
    "x2 = ((-1)/(3*a)) * (b+(W1*W2*S)+(W1*W2*T))\n",
    "x3 = ((-1)/(3*a)) * (b+(W2*S)+(W1*T))\n",
    "\n",
    "print('roots are = ', x1,x2,x3)"
   ]
  },
  {
   "cell_type": "raw",
   "id": "b86c00c1-08cb-4ee5-a87a-60a2828d86f8",
   "metadata": {},
   "source": []
  },
  {
   "cell_type": "raw",
   "id": "e0bb64e5-1e46-4f29-b29b-fe414d346ea5",
   "metadata": {},
   "source": [
    "Advanced Level:"
   ]
  },
  {
   "cell_type": "raw",
   "id": "deae6ae2-ce38-4394-a5bd-35166989a57b",
   "metadata": {},
   "source": []
  },
  {
   "cell_type": "code",
   "execution_count": 42,
   "id": "1a421e4d-f480-47f8-b19e-76e68be25bc5",
   "metadata": {},
   "outputs": [
    {
     "name": "stdin",
     "output_type": "stream",
     "text": [
      "Enter the income :  1600000\n"
     ]
    },
    {
     "name": "stdout",
     "output_type": "stream",
     "text": [
      "total income tax =  480000.0\n"
     ]
    }
   ],
   "source": [
    "# 21. Create a program that calculates the income tax based on the user's income and tax brackets.\n",
    "\n",
    "\n",
    "income  = int(input('Enter the income : '))\n",
    "\n",
    "if  500000 < income <= 800000 :\n",
    "    tax  = (1/10)*income\n",
    "elif 800000 < income <=1200000 :\n",
    "    tax  = (2/10)*income\n",
    "elif income > 1200000 :\n",
    "    tax  = (3/10)*income\n",
    "else:\n",
    "    tax = 0\n",
    "print('total income tax = ',tax)"
   ]
  },
  {
   "cell_type": "code",
   "execution_count": 37,
   "id": "e46e8c87-93c8-4113-ab19-38847cace462",
   "metadata": {},
   "outputs": [
    {
     "name": "stdin",
     "output_type": "stream",
     "text": [
      "your turn, enter your sign :  rock\n"
     ]
    },
    {
     "name": "stdout",
     "output_type": "stream",
     "text": [
      "Computers trun :  paper\n",
      "You lose\n"
     ]
    }
   ],
   "source": [
    "#22. Write a program that simulates a rock-paper-scissors game against the computer.\n",
    "\n",
    "value = input('your turn, enter your sign : ')\n",
    "value = value.lower()\n",
    "\n",
    "import random\n",
    "\n",
    "int_value = random.randint(1,4)\n",
    "\n",
    "if int_value == 1:\n",
    "    c_value = 'rock'\n",
    "elif int_value == 2:\n",
    "    c_value = 'paper'\n",
    "else:\n",
    "    c_value = 'scissor'\n",
    "\n",
    "print('Computers trun : ',c_value)\n",
    "\n",
    "if value == c_value:\n",
    "    print('draw')\n",
    "else:\n",
    "    if value == 'rock' and c_value == 'paper':\n",
    "        print('You lose')\n",
    "    elif value == 'rock' and c_value == 'scissor':\n",
    "        print('You win')\n",
    "    elif value == 'paper' and c_value == 'rock':\n",
    "        print('You win')\n",
    "    elif value == 'paper' and c_value == 'scissor':\n",
    "        print('You lose')\n",
    "    elif value == 'scissor' and c_value == 'rock':\n",
    "        print('You lose')\n",
    "    elif value == 'scissor' and c_value == 'paper':\n",
    "        print('You lose')\n",
    "            \n"
   ]
  },
  {
   "cell_type": "code",
   "execution_count": 50,
   "id": "4d1f6889-c5fc-47b8-a9ac-a1b9b52e6033",
   "metadata": {},
   "outputs": [
    {
     "name": "stdin",
     "output_type": "stream",
     "text": [
      "Enter the length of password :  8\n",
      "Enter the complexity of password in terms of easy / moderate / difficult :  hacuidahi\n"
     ]
    },
    {
     "name": "stdout",
     "output_type": "stream",
     "text": [
      "Complexity Entered incorrectly...\n"
     ]
    }
   ],
   "source": [
    "#23. Develop a program that generates a random password based on user preferences (length, complexity).\n",
    "\n",
    "import random, string\n",
    "\n",
    "length = int(input('Enter the length of password : '))\n",
    "complexity = input('Enter the complexity of password in terms of easy / moderate / difficult : ')\n",
    "\n",
    "def generate_password(length, complexity):\n",
    "    if complexity.lower() == 'easy':\n",
    "        password = ''.join(random.choices(string.ascii_uppercase + string.ascii_lowercase, k= length))\n",
    "    elif complexity.lower() == 'moderate':\n",
    "        password = ''.join(random.choices(string.ascii_uppercase + string.digits + string.ascii_lowercase, k=length))\n",
    "    elif complexity.lower() == 'difficult':\n",
    "        password = ''.join(random.choices(string.ascii_uppercase + string.digits + string.punctuation + string.ascii_lowercase, k=length))\n",
    "    else:\n",
    "        return('Complexity Entered incorrectly...')\n",
    "    return(password)\n",
    "\n",
    "\n",
    "generate_password = generate_password(length, complexity)\n",
    "print(generate_password)"
   ]
  },
  {
   "cell_type": "code",
   "execution_count": 2,
   "id": "2699cafc-a9e6-4f97-aa84-bfd54c527dd3",
   "metadata": {},
   "outputs": [
    {
     "name": "stdin",
     "output_type": "stream",
     "text": [
      "A man came and asking for shelter\n",
      "    Will you give him shelter\n",
      "    yes or no\n",
      "     yes\n",
      "Police arrived and asked wheter thief is inside \n",
      "    yes or no\n",
      "            yes\n"
     ]
    },
    {
     "name": "stdout",
     "output_type": "stream",
     "text": [
      "you win\n"
     ]
    }
   ],
   "source": [
    "#24. Create a program that implements a simple text-based adventure game with branching scenarios.\n",
    "\n",
    "\n",
    "start = input(\n",
    "    '''A man came and asking for shelter\n",
    "    Will you give him shelter\n",
    "    yes or no\n",
    "    '''\n",
    "    )\n",
    "if start.lower() == 'yes':\n",
    "    police = input('''Police arrived and asked wheter thief is inside \n",
    "    yes or no\n",
    "           ''')\n",
    "    if police.lower() == 'yes':\n",
    "        print('you win')\n",
    "    elif police.lower() == 'no':\n",
    "        print('you lose')\n",
    "    else: \n",
    "        print('Invalid input')\n",
    "elif start.lower() == 'no':\n",
    "    thief = input('''He attacked on you will you knock him down \n",
    "  yes or no\n",
    "  ''')\n",
    "    if thief.lower() == 'yes':\n",
    "        print('you win')\n",
    "    elif thief.lower() == 'no':\n",
    "        print('you lose')\n",
    "    else: \n",
    "        print('Incorrect input')\n",
    "else:\n",
    "    print('invalid input')\n"
   ]
  },
  {
   "cell_type": "code",
   "execution_count": 4,
   "id": "e1ef73d7-df3e-4f93-a5c0-2c5f7adad3e0",
   "metadata": {},
   "outputs": [
    {
     "name": "stdout",
     "output_type": "stream",
     "text": [
      "ax+b=0\n"
     ]
    },
    {
     "name": "stdin",
     "output_type": "stream",
     "text": [
      "Enter the value of a :  3\n",
      "Enter the value of b :  2\n"
     ]
    },
    {
     "name": "stdout",
     "output_type": "stream",
     "text": [
      "value of x is  -0.6666666666666666\n"
     ]
    }
   ],
   "source": [
    "# 25. Build a program that solves a linear equation for x, considering different cases.\n",
    "\n",
    "print('ax+b=0')\n",
    "a = int(input(\"Enter the value of a : \"))\n",
    "b = int(input(\"Enter the value of b : \"))\n",
    "if a == 0 and b == 0 :\n",
    "    print('There are multiple roots of x')\n",
    "elif a == 0 and b != 0 :\n",
    "    print('no solution')\n",
    "else:\n",
    "    print('value of x is ', (-b/a))"
   ]
  },
  {
   "cell_type": "code",
   "execution_count": 5,
   "id": "c4f46619-1ff1-4f0b-ac5e-6a3e0115dfe0",
   "metadata": {},
   "outputs": [
    {
     "name": "stdout",
     "output_type": "stream",
     "text": [
      "Below are the five MCQ's. Each question holds 1 mark.\n",
      "Q1. Which letter is the vowel amog the below options : \n",
      "    1. M\n",
      "    2. N\n",
      "    3. A\n",
      "    4. L\n",
      "\n"
     ]
    },
    {
     "name": "stdin",
     "output_type": "stream",
     "text": [
      "Enter the option :  3\n"
     ]
    },
    {
     "name": "stdout",
     "output_type": "stream",
     "text": [
      "Q2. Which of the below number is even number : \n",
      "    1. 1\n",
      "    2. 4\n",
      "    3. 3\n",
      "    4. 9\n",
      "\n"
     ]
    },
    {
     "name": "stdin",
     "output_type": "stream",
     "text": [
      "Enter the option :  4\n"
     ]
    },
    {
     "name": "stdout",
     "output_type": "stream",
     "text": [
      "Q3. Which of the below number is odd number : \n",
      "    1. 2\n",
      "    2. 6\n",
      "    3. 4\n",
      "    4. 9\n",
      "\n"
     ]
    },
    {
     "name": "stdin",
     "output_type": "stream",
     "text": [
      "Enter the option :  4\n"
     ]
    },
    {
     "name": "stdout",
     "output_type": "stream",
     "text": [
      "Q4. Which letter is the consonent amog the below options : \n",
      "    1. W\n",
      "    2. A\n",
      "    3. I\n",
      "    4. O\n",
      "\n"
     ]
    },
    {
     "name": "stdin",
     "output_type": "stream",
     "text": [
      "Enter the option :  1\n"
     ]
    },
    {
     "name": "stdout",
     "output_type": "stream",
     "text": [
      "Q5. Which of the below number is prime number : \n",
      "    1. 4\n",
      "    2. 7\n",
      "    3. 6\n",
      "    4. 10\n",
      "\n"
     ]
    },
    {
     "name": "stdin",
     "output_type": "stream",
     "text": [
      "Enter the option :  2\n"
     ]
    },
    {
     "name": "stdout",
     "output_type": "stream",
     "text": [
      "\n",
      "***Thanks for the assesment***\n",
      "You have scored : 4 out of 5\n"
     ]
    }
   ],
   "source": [
    "#26. Write a program that simulates a basic quiz game with multiple-choice questions and scoring.\n",
    "\n",
    "counter = 0\n",
    "\n",
    "print(\"Below are the five MCQ's. Each question holds 1 mark.\")\n",
    "\n",
    "print('''Q1. Which letter is the vowel amog the below options : \n",
    "    1. M\n",
    "    2. N\n",
    "    3. A\n",
    "    4. L\n",
    "''')\n",
    "Q1 = int(input('Enter the option : '))\n",
    "\n",
    "if Q1 == 3:\n",
    "    counter+=1\n",
    "\n",
    "\n",
    "print('''Q2. Which of the below number is even number : \n",
    "    1. 1\n",
    "    2. 4\n",
    "    3. 3\n",
    "    4. 9\n",
    "''')\n",
    "Q2 = int(input('Enter the option : '))\n",
    "\n",
    "if Q2 == 2:\n",
    "    counter+=1\n",
    "    \n",
    "\n",
    "print('''Q3. Which of the below number is odd number : \n",
    "    1. 2\n",
    "    2. 6\n",
    "    3. 4\n",
    "    4. 9\n",
    "''')\n",
    "Q3 = int(input('Enter the option : '))\n",
    "\n",
    "if Q3 == 4:\n",
    "    counter+=1\n",
    "\n",
    "print('''Q4. Which letter is the consonent amog the below options : \n",
    "    1. W\n",
    "    2. A\n",
    "    3. I\n",
    "    4. O\n",
    "''')\n",
    "Q4 = int(input('Enter the option : '))\n",
    "\n",
    "if Q4 == 1:\n",
    "    counter+=1\n",
    "\n",
    "print('''Q5. Which of the below number is prime number : \n",
    "    1. 4\n",
    "    2. 7\n",
    "    3. 6\n",
    "    4. 10\n",
    "''')\n",
    "Q5 = int(input('Enter the option : '))\n",
    "if Q5 == 2:\n",
    "    counter+=1\n",
    "\n",
    "print('''\n",
    "***Thanks for the assesment***\n",
    "You have scored : '''+ str(counter) + ' out of 5')"
   ]
  },
  {
   "cell_type": "code",
   "execution_count": 22,
   "id": "c38b2c79-b470-45d5-b44a-867a66a7648a",
   "metadata": {},
   "outputs": [
    {
     "name": "stdin",
     "output_type": "stream",
     "text": [
      "Enter the year :  1009\n"
     ]
    },
    {
     "name": "stdout",
     "output_type": "stream",
     "text": [
      "yes\n"
     ]
    }
   ],
   "source": [
    "#27. Develop a program that determines whether a given year is a prime number or not.\n",
    "\n",
    "year = int(input('Enter the year : '))\n",
    "for x in range(2,year+1):\n",
    "    if year % x == 0:\n",
    "        break\n",
    "if year == x:\n",
    "    print('yes')\n",
    "else:\n",
    "    print('NO')\n"
   ]
  },
  {
   "cell_type": "code",
   "execution_count": 37,
   "id": "e589336b-6ed5-49ec-932f-d3bc4e4a08d8",
   "metadata": {},
   "outputs": [
    {
     "name": "stdin",
     "output_type": "stream",
     "text": [
      "Enter any 3 numbers :  6 3 2\n"
     ]
    },
    {
     "name": "stdout",
     "output_type": "stream",
     "text": [
      "Numbers in ascending order :  2 3 6\n"
     ]
    }
   ],
   "source": [
    "#28. Create a program that sorts three numbers in ascending order using conditional statements.\n",
    "\n",
    "list_1 = (input('Enter any 3 numbers : ')).split()\n",
    "a = int(list_1[0])\n",
    "b = int(list_1[1])\n",
    "c = int(list_1[2])\n",
    "\n",
    "if a < b and a < c:\n",
    "    if b < c :\n",
    "        print('Numbers in ascending order : ', str(a) + ' ' + str(b) + ' ' + str(c))\n",
    "    else: \n",
    "        print('Numbers in ascending order : ',str(a) + ' ' + str(c) + ' ' + str(b))\n",
    "elif b < a and b < c:\n",
    "    if a < c :\n",
    "        print('Numbers in ascending order : ',str(b) + ' ' + str(a) + ' ' + str(c))\n",
    "    else: \n",
    "        print('Numbers in ascending order : ',str(b) + ' ' + str(c) + ' ' + str(a))\n",
    "elif c < a and c < b:\n",
    "    if a < b :\n",
    "        print('Numbers in ascending order : ',str(c) + ' ' + str(a) + ' ' + str(b))\n",
    "    else: \n",
    "        print('Numbers in ascending order : ',str(c) + ' ' + str(b) + ' ' + str(a))\n"
   ]
  },
  {
   "cell_type": "code",
   "execution_count": 38,
   "id": "9f811725-19f1-47a1-a31f-a6200d7d20d3",
   "metadata": {},
   "outputs": [
    {
     "name": "stdout",
     "output_type": "stream",
     "text": [
      "ax^2 + bx + c\n"
     ]
    },
    {
     "name": "stdin",
     "output_type": "stream",
     "text": [
      "Enter the value of a for the above equation :  1\n",
      "Enter the value of b for the above equation :  2\n",
      "Enter the value of c for the above equation :  3\n"
     ]
    },
    {
     "name": "stdout",
     "output_type": "stream",
     "text": [
      "roots are (-0.9999999999999999+1.4142135623730951j)and(-1-1.4142135623730951j)\n"
     ]
    }
   ],
   "source": [
    "#29. Build a program that determines the roots of a quartic equation using numerical methods.\n",
    "\n",
    "print(\"ax^2 + bx + c\")\n",
    "a = int(input('Enter the value of a for the above equation : '))\n",
    "b = int(input('Enter the value of b for the above equation : '))\n",
    "c = int(input('Enter the value of c for the above equation : '))\n",
    "\n",
    "x1 = (-b + ((b**2)-(4*a*c))**0.5)/(2*a)\n",
    "x2 = (-b - ((b**2)-(4*a*c))**0.5)/(2*a)\n",
    "\n",
    "print('roots are', str((x1)) +'and'+str((x2)))"
   ]
  },
  {
   "cell_type": "code",
   "execution_count": 3,
   "id": "2248032c-9a93-4f02-88b5-f15192d52458",
   "metadata": {},
   "outputs": [
    {
     "name": "stdin",
     "output_type": "stream",
     "text": [
      "Enter your weight in KG :  83\n",
      "Enter your height in meter :  1.7\n"
     ]
    },
    {
     "name": "stdout",
     "output_type": "stream",
     "text": [
      "Your BMI is =  28.719723183391007\n",
      "\n",
      "        You are Overweight \n",
      "        health recommendations : \n",
      "        - Limit energy intake from total fats and sugars.\n",
      "        - Increase consumption of fruits, vegetables, legumes, whole grains, and nuts.\n",
      "        - Engage in regular physical activity. For adults, it is recommended to engage in 150 minutes of moderate-intensity aerobic physical activity throughout the week\n",
      "        \n"
     ]
    }
   ],
   "source": [
    "# 30. Write a program that calculates the BMI (Body Mass Index) and provides health recommendations based on the user's input.\n",
    "\n",
    "#BMI = (Weight/(height**2))*703\n",
    "\n",
    "weight = float(input('Enter your weight in KG : '))\n",
    "height = float(input('Enter your height in meter : '))\n",
    "BMI = (weight/(height**2))\n",
    "print('Your BMI is = ',BMI)\n",
    "\n",
    "if BMI <= 18.5 :\n",
    "    print(\n",
    "        '''\n",
    "        You are underweight\n",
    "        health recommendations : \n",
    "        -Eat a variety of vegetables and fruits, preferably fresh and local, several times per day.\n",
    "        -Eat 5 to 6 smaller meals during the day, and snack on healthy, high energy foods like cheese, nuts, milk-based smoothies and dried fruit.\n",
    "        -Choose food with lots of nutrients, and avoid foods with a lot of added sugar, fat and salt.\n",
    "        -Add extra ingredients that are high in calories to regular diet, such as eggs, bananas, peanut butter, etc.\n",
    "        -Maintain body weight between the recommended limits by taking moderate to vigorous levels of physical activity, preferably daily.\n",
    "        '''\n",
    "    )\n",
    "elif 18.5 < BMI <= 25.9 :\n",
    "    print(\n",
    "        '''\n",
    "        You are Normal \n",
    "        health recommendations : \n",
    "        -Keep doing the same activities as you do everyday, you have healthy enough BMI.\n",
    "        -Eat a variety of vegetables and fruits, preferably fresh and local, several times per day.\n",
    "        -Eat 5 to 6 smaller meals during the day, and snack on healthy, high energy foods like cheese, nuts, milk-based smoothies and dried fruit.\n",
    "        -Choose food with lots of nutrients, and avoid foods with a lot of added sugar, fat and salt.\n",
    "        -Add extra ingredients that are high in calories to regular diet, such as eggs, bananas, peanut butter, etc.\n",
    "        -Maintain body weight between the recommended limits by taking moderate to vigorous levels of physical activity, preferably daily.\n",
    "        '''\n",
    "    )\n",
    "elif 25.0 <BMI<=29.9:\n",
    "    print(\n",
    "    '''\n",
    "        You are Overweight \n",
    "        health recommendations : \n",
    "        - Limit energy intake from total fats and sugars.\n",
    "        - Increase consumption of fruits, vegetables, legumes, whole grains, and nuts.\n",
    "        - Engage in regular physical activity. For adults, it is recommended to engage in 150 minutes of moderate-intensity aerobic physical activity throughout the week\n",
    "        '''\n",
    "    )\n",
    "elif BMI >= 30.0:\n",
    "    print(\n",
    "    '''\n",
    "        You are Very Overweight \n",
    "        health recommendations : \n",
    "        - Eating lots of fruits and vegetables\n",
    "        - Reducing fat, sugar and salt intake\n",
    "        - Exercising for at least 150 minutes a week of moderate-intensity physical activity\n",
    "        - Keeping moving, as any extra movement helps burn calories\n",
    "        - Checking body mass index (BMI) to see if they are overweight\n",
    "        - Adopting a healthy eating plan and increasing physical activity to help lose weight safely\n",
    "        - Getting more physical activity or exercise is an essential part of obesity treatment\n",
    "        '''\n",
    "    )\n",
    "    "
   ]
  },
  {
   "cell_type": "raw",
   "id": "6f1d2ab9-d3d5-4836-8d28-aa98ac260aa2",
   "metadata": {},
   "source": []
  },
  {
   "cell_type": "raw",
   "id": "83a74781-aae6-4af0-aa58-4fb764949922",
   "metadata": {},
   "source": [
    "Challenge Level:"
   ]
  },
  {
   "cell_type": "raw",
   "id": "8b95e9cc-87cd-4a6c-a60b-bdca009d8ddc",
   "metadata": {},
   "source": []
  },
  {
   "cell_type": "code",
   "execution_count": 36,
   "id": "0bd71ea3-4218-4f4b-877f-8da014c78a81",
   "metadata": {},
   "outputs": [
    {
     "name": "stdin",
     "output_type": "stream",
     "text": [
      "Enter password :  huisduhih5766%$\n"
     ]
    },
    {
     "name": "stdout",
     "output_type": "stream",
     "text": [
      "Strong\n"
     ]
    }
   ],
   "source": [
    "#31. Create a program that validates a password based on complexity rules (length, characters, etc.).\n",
    "\n",
    "\n",
    "password = input('Enter password : ')\n",
    "if len(password) >= 6:\n",
    "    if password.isalpha() or password.isnumeric():\n",
    "        print('Weak')\n",
    "    elif password.isalnum():\n",
    "        print('moderate')\n",
    "    else:\n",
    "        print('Strong')\n",
    "else:\n",
    "    print('Invalid Input')\n",
    "    \n",
    "\n",
    "    "
   ]
  },
  {
   "cell_type": "code",
   "execution_count": 39,
   "id": "2bed9bc6-ea9d-4052-b527-3f42cfe155e8",
   "metadata": {},
   "outputs": [
    {
     "name": "stdin",
     "output_type": "stream",
     "text": [
      "Enter Number of rows :  2\n",
      "Enter Number of column :  2\n"
     ]
    },
    {
     "name": "stdout",
     "output_type": "stream",
     "text": [
      "Enter the first matrix\n"
     ]
    },
    {
     "name": "stdin",
     "output_type": "stream",
     "text": [
      "Enter the value of (1,1) 1\n",
      "Enter the value of (1,2) 1\n",
      "Enter the value of (2,1) 1\n",
      "Enter the value of (2,2) 1\n"
     ]
    },
    {
     "name": "stdout",
     "output_type": "stream",
     "text": [
      "Matrix 1 = \n",
      "[1, 1]\n",
      "[1, 1]\n",
      "Enter the second matrix\n"
     ]
    },
    {
     "name": "stdin",
     "output_type": "stream",
     "text": [
      "Enter the value of (1,1) 1\n",
      "Enter the value of (1,2) 1\n",
      "Enter the value of (2,1) 1\n",
      "Enter the value of (2,2) 1\n"
     ]
    },
    {
     "name": "stdout",
     "output_type": "stream",
     "text": [
      "Matrix 2 = \n",
      "[1, 1]\n",
      "[1, 1]\n",
      "Addition of matrix : \n",
      "[2, 2]\n",
      "[2, 2]\n",
      "Substraction of matrix : \n",
      "[0, 0]\n",
      "[0, 0]\n"
     ]
    }
   ],
   "source": [
    "# 32. Develop a program that performs matrix addition and subtraction based on user input.\n",
    "\n",
    "rows = int(input('Enter Number of rows : '))\n",
    "column = int(input('Enter Number of column : '))\n",
    "row = []\n",
    "col = []\n",
    "matrix_1 = []\n",
    "matrix_2 = []\n",
    "matrix_1_new = []\n",
    "matrix_2_new = []\n",
    "add_matrix = []\n",
    "sub_matrix = []\n",
    "add_matrix_semifinal = []\n",
    "add_matrix_final = []\n",
    "sub_matrix_semifinal = []\n",
    "sub_matrix_final = []\n",
    "\n",
    "\n",
    "# first matrix\n",
    "print('Enter the first matrix')\n",
    "for x in range (1,rows+1):\n",
    "    for y in range (1,column+1):\n",
    "        value = int(input(f'Enter the value of ({x},{y})'))\n",
    "        row.append(value)\n",
    "    col.append(row)\n",
    "    row = []\n",
    "matrix_1 = col\n",
    "col = []\n",
    "\n",
    "print('Matrix 1 = ')\n",
    "for x in matrix_1:\n",
    "    print(x)\n",
    "    \n",
    "\n",
    "print('Enter the second matrix')\n",
    "for x in range (1,rows+1):\n",
    "    for y in range (1,column+1):\n",
    "        value = int(input(f'Enter the value of ({x},{y})'))\n",
    "        row.append(value)\n",
    "    col.append(row)\n",
    "    row = []\n",
    "matrix_2 = col\n",
    "\n",
    "print('Matrix 2 = ')\n",
    "for x in matrix_2:\n",
    "    print(x)\n",
    "\n",
    "col = []\n",
    "\n",
    "for m in matrix_1:\n",
    "    for n in m:\n",
    "        matrix_1_new.append(n)\n",
    "for m in matrix_2:\n",
    "    for n in m:\n",
    "        matrix_2_new.append(n)\n",
    "        \n",
    "\n",
    "for x in range(len(matrix_1)*len(matrix_2)):\n",
    "    add_matrix.append(matrix_1_new[x]+matrix_2_new[x])\n",
    "        \n",
    "\n",
    "\n",
    "counter = 0\n",
    "for x in range (rows):\n",
    "    for y in range (column):\n",
    "        add_matrix_semifinal.append(add_matrix[counter])\n",
    "        counter+=1\n",
    "    add_matrix_final.append(add_matrix_semifinal)\n",
    "    add_matrix_semifinal = []\n",
    "\n",
    "\n",
    "print('Addition of matrix : ')\n",
    "for x in add_matrix_final:\n",
    "    print(x)\n",
    "\n",
    "\n",
    "for x in range(len(matrix_1)*len(matrix_2)):\n",
    "    sub_matrix.append(matrix_1_new[x]-matrix_2_new[x])\n",
    "        \n",
    "\n",
    "counter = 0\n",
    "for x in range (rows):\n",
    "    for y in range (column):\n",
    "        sub_matrix_semifinal.append(sub_matrix[counter])\n",
    "        counter+=1\n",
    "    sub_matrix_final.append(sub_matrix_semifinal)\n",
    "    sub_matrix_semifinal = []\n",
    "\n",
    "print('Substraction of matrix : ')\n",
    "for x in sub_matrix_final:\n",
    "    print(x)\n",
    "    \n",
    "    "
   ]
  },
  {
   "cell_type": "code",
   "execution_count": 41,
   "id": "52304a66-2d47-481a-a58e-64388c268434",
   "metadata": {},
   "outputs": [
    {
     "name": "stdin",
     "output_type": "stream",
     "text": [
      "Enter the value of A :  45\n",
      "Enter the value of B :  68\n"
     ]
    },
    {
     "name": "stdout",
     "output_type": "stream",
     "text": [
      "GCD =  1\n"
     ]
    }
   ],
   "source": [
    "#33. Write a program that calculates the greatest common divisor (GCD) of two numbers using the Euclidean algorithm.\n",
    "\n",
    "A = int(input('Enter the value of A : '))\n",
    "B = int(input('Enter the value of B : '))\n",
    "\n",
    "def find_gcd(A,B):\n",
    "    Q = A // B\n",
    "    R = A % B\n",
    "    (A,B) = (B,R)\n",
    "    if A!= 0 and B!=0:\n",
    "        find_gcd(A,B)\n",
    "    elif A == 0:\n",
    "        print('GCD = ',B)\n",
    "    elif B == 0:\n",
    "        print('GCD = ',A)\n",
    "        \n",
    "\n",
    "\n",
    "if A == 0:\n",
    "    print('GCD = ',B)\n",
    "elif B == 0:\n",
    "    print('GCD = ',A)\n",
    "else:\n",
    "    find_gcd(A,B)\n"
   ]
  },
  {
   "cell_type": "code",
   "execution_count": 32,
   "id": "178d820a-1d16-4f50-a730-9bba0d4ba754",
   "metadata": {},
   "outputs": [
    {
     "name": "stdin",
     "output_type": "stream",
     "text": [
      "Enter Number of rows :  2\n",
      "Enter Number of column :  2\n"
     ]
    },
    {
     "name": "stdout",
     "output_type": "stream",
     "text": [
      "Enter the first matrix\n"
     ]
    },
    {
     "name": "stdin",
     "output_type": "stream",
     "text": [
      "Enter the value of (1,1) 1\n",
      "Enter the value of (1,2) 2\n",
      "Enter the value of (2,1) 3\n",
      "Enter the value of (2,2) 4\n"
     ]
    },
    {
     "name": "stdout",
     "output_type": "stream",
     "text": [
      "Matrix 1 = \n",
      "[1, 2]\n",
      "[3, 4]\n",
      "Enter the second matrix\n"
     ]
    },
    {
     "name": "stdin",
     "output_type": "stream",
     "text": [
      "Enter the value of (1,1) 5\n",
      "Enter the value of (1,2) 6\n",
      "Enter the value of (2,1) 7\n",
      "Enter the value of (2,2) 8\n"
     ]
    },
    {
     "name": "stdout",
     "output_type": "stream",
     "text": [
      "Matrix 2 = \n",
      "[5, 6]\n",
      "[7, 8]\n",
      "Matrix Multiplication\n",
      "[19, 22]\n",
      "[43, 50]\n"
     ]
    }
   ],
   "source": [
    "#34. Build a program that performs matrix multiplication using nested loops and conditional statements.\n",
    "\n",
    "rows = int(input('Enter Number of rows : '))\n",
    "column = int(input('Enter Number of column : '))\n",
    "row = []\n",
    "col = []\n",
    "matrix_1 = []\n",
    "matrix_2 = []\n",
    "matrix_2_new = []\n",
    "matrix_2_final = []\n",
    "mul_matrix = []\n",
    "mul_matrix_new = []\n",
    "mul_matrix_final = []\n",
    "\n",
    "temp = []\n",
    "# first matrix\n",
    "print('Enter the first matrix')\n",
    "for x in range (1,rows+1):\n",
    "    for y in range (1,column+1):\n",
    "        value = int(input(f'Enter the value of ({x},{y})'))\n",
    "        row.append(value)\n",
    "    col.append(row)\n",
    "    row = []\n",
    "matrix_1 = col\n",
    "col = []\n",
    "\n",
    "print('Matrix 1 = ')\n",
    "for x in matrix_1:\n",
    "    print(x)\n",
    "    \n",
    "# first matrix\n",
    "print('Enter the second matrix')\n",
    "for x in range (1,rows+1):\n",
    "    for y in range (1,column+1):\n",
    "        value = int(input(f'Enter the value of ({x},{y})'))\n",
    "        row.append(value)\n",
    "    col.append(row)\n",
    "    row = []\n",
    "matrix_2 = col\n",
    "col = []\n",
    "\n",
    "print('Matrix 2 = ')\n",
    "for x in matrix_2:\n",
    "    print(x)\n",
    "    \n",
    "    \n",
    "#for matrix multiplication.\n",
    "\n",
    "\n",
    "mul_matrix = [[0 for _ in range(len(matrix_2[0]))] for _ in range(len(matrix_1))]\n",
    "\n",
    "\n",
    "for i in range(len(matrix_1)):\n",
    "    for j in range(len(matrix_2[0])):\n",
    "        for k in range(len(matrix_2)):\n",
    "            mul_matrix[i][j] += matrix_1[i][k] * matrix_2[k][j]\n",
    "\n",
    "print('Matrix Multiplication')\n",
    "            \n",
    "for x in mul_matrix:\n",
    "    print(x)\n",
    "\n",
    "\n"
   ]
  },
  {
   "cell_type": "code",
   "execution_count": 12,
   "id": "fe7a385a-a57f-41f1-99f3-274638f99e93",
   "metadata": {},
   "outputs": [
    {
     "name": "stdin",
     "output_type": "stream",
     "text": [
      "Enter the vlaue of n :  7\n"
     ]
    },
    {
     "name": "stdout",
     "output_type": "stream",
     "text": [
      "[0, 1, 1, 2, 3, 5, 8]\n"
     ]
    }
   ],
   "source": [
    "#36. Write a program that generates Fibonacci numbers up to a specified term using iterative methods.\n",
    "\n",
    "n = int(input('Enter the vlaue of n : '))\n",
    "list_1  = []\n",
    "for x in range(0,n):\n",
    "    if x <= 1 :\n",
    "        list_1.append(x)\n",
    "    else:\n",
    "        y  = (list_1[-1]) + (list_1[-2])\n",
    "        list_1.append(y)\n",
    "\n",
    "print(list_1)"
   ]
  },
  {
   "cell_type": "code",
   "execution_count": 14,
   "id": "bc18a847-c426-42af-9c79-6b402f823f16",
   "metadata": {},
   "outputs": [
    {
     "name": "stdin",
     "output_type": "stream",
     "text": [
      "Enter the vlaue of n :  7\n"
     ]
    },
    {
     "name": "stdout",
     "output_type": "stream",
     "text": [
      "nth term of the Fibonacci sequence is 8\n"
     ]
    }
   ],
   "source": [
    "#37. Develop a program that calculates the nth term of the Fibonacci sequence using memoization.\n",
    "\n",
    "n = int(input('Enter the vlaue of n : '))\n",
    "list_1  = []\n",
    "for x in range(0,n):\n",
    "    if x <= 1 :\n",
    "        list_1.append(x)\n",
    "    else:\n",
    "        y  = (list_1[-1]) + (list_1[-2])\n",
    "        list_1.append(y)\n",
    "\n",
    "print('nth term of the Fibonacci sequence is',list_1[-1])"
   ]
  },
  {
   "cell_type": "code",
   "execution_count": 1,
   "id": "f372bbcc-115f-4152-9550-959b03265bd6",
   "metadata": {},
   "outputs": [
    {
     "name": "stdin",
     "output_type": "stream",
     "text": [
      "Enter the year :  2023\n",
      "Enter the month :  august\n"
     ]
    },
    {
     "name": "stdout",
     "output_type": "stream",
     "text": [
      "2023 august\n",
      "S  M  T  W  T  F  S\n",
      "       1  2  3  4  5\n",
      "6  7  8  9  10 11 12\n",
      "13 14 15 16 17 18 19\n",
      "20 21 22 23 24 25 26\n",
      "27 28 29 30 31 "
     ]
    }
   ],
   "source": [
    "#38. Create a program that generates a calendar for a given month and year using conditional statements.\n",
    "\n",
    "year = int(input('Enter the year : '))\n",
    "month = str(input('Enter the month : '))\n",
    "\n",
    "if month.lower() in ['january','february','march','april','may','june','july','august','september','october','november','december']:\n",
    "\n",
    "    if year % 4 == 0:\n",
    "        if month.lower() == 'january' :\n",
    "            days = 31\n",
    "            magic_number = 6\n",
    "        elif month.lower() == 'february' :\n",
    "            days = 29\n",
    "            magic_number = 2\n",
    "        elif month.lower() == 'march' :\n",
    "            days = 31\n",
    "            magic_number = 3\n",
    "        elif month.lower() == 'april' :\n",
    "            days = 30\n",
    "            magic_number = 6\n",
    "        elif month.lower() == 'may' :\n",
    "            days = 31\n",
    "            magic_number = 1\n",
    "        elif month.lower() == 'june' :\n",
    "            days = 30\n",
    "            magic_number = 4\n",
    "        elif month.lower() == 'july' :\n",
    "            days = 31\n",
    "            magic_number = 6\n",
    "        elif month.lower() == 'august' :\n",
    "            days = 31\n",
    "            magic_number = 2\n",
    "        elif month.lower() == 'september' :\n",
    "            days = 30\n",
    "            magic_number = 5\n",
    "        elif month.lower() == 'october' :\n",
    "            days = 31\n",
    "            magic_number = 0\n",
    "        elif month.lower() == 'november' :\n",
    "            days = 30\n",
    "            magic_number = 3\n",
    "        elif month.lower() == 'december' :\n",
    "            days = 31\n",
    "            magic_number = 5\n",
    "        \n",
    "\n",
    "\n",
    "\n",
    "    else:\n",
    "        if month.lower() == 'january' :\n",
    "            days = 31\n",
    "            magic_number = 0\n",
    "        elif month.lower() == 'february' :\n",
    "            days = 28\n",
    "            magic_number = 3\n",
    "        elif month.lower() == 'march' :\n",
    "            days = 31\n",
    "            magic_number = 3\n",
    "        elif month.lower() == 'april' :\n",
    "            days = 30\n",
    "            magic_number = 6\n",
    "        elif month.lower() == 'may' :\n",
    "            days = 31\n",
    "            magic_number = 1\n",
    "        elif month.lower() == 'june' :\n",
    "            days = 30\n",
    "            magic_number = 4\n",
    "        elif month.lower() == 'july' :\n",
    "            days = 31\n",
    "            magic_number = 6\n",
    "        elif month.lower() == 'august' :\n",
    "            days = 31\n",
    "            magic_number = 2\n",
    "        elif month.lower() == 'september' :\n",
    "            days = 30\n",
    "            magic_number = 5\n",
    "        elif month.lower() == 'october' :\n",
    "            days = 31\n",
    "            magic_number = 0\n",
    "        elif month.lower() == 'november' :\n",
    "            days = 30\n",
    "            magic_number = 3\n",
    "        elif month.lower() == 'december' :\n",
    "            days = 31\n",
    "            magic_number = 5\n",
    "\n",
    "\n",
    "\n",
    "\n",
    "    #step2- Calculating year corrosponcence\n",
    "\n",
    "    if (year // 100)%4 == 0:\n",
    "        YC = 6\n",
    "    elif (year // 100)%4 == 1:\n",
    "        YC = 4 \n",
    "    elif (year // 100)%4 == 2:\n",
    "        YC = 2\n",
    "    elif (year // 100)%4 == 3:\n",
    "        YC = 0\n",
    "\n",
    "    #step 3- last two digits/4\n",
    "\n",
    "    LT = (year%100)\n",
    "\n",
    "    QLT = round(LT/4)\n",
    "\n",
    "    #step 4- adding all the numbers \n",
    "\n",
    "    value = 1+magic_number+YC+QLT+LT\n",
    "\n",
    "    #step 5\n",
    "\n",
    "    fvalue = value%7\n",
    "\n",
    "\n",
    "\n",
    "    print(year, month)\n",
    "    print('S  M  T  W  T  F  S')\n",
    "    counter = 0   \n",
    "    print('   '*(fvalue-1),end = ' ')\n",
    "    counter = fvalue-1\n",
    "    for x in range(1,days+1):\n",
    "        if counter < 6:\n",
    "            if x <10:\n",
    "                print(x, end= '  ')\n",
    "            else:\n",
    "                print(x, end= ' ')\n",
    "            counter += 1\n",
    "        else:\n",
    "            print(x,end = '\\n')\n",
    "            counter = 0\n",
    "            \n",
    "else:\n",
    "    print('Invalid Input')\n",
    "\n"
   ]
  },
  {
   "cell_type": "code",
   "execution_count": null,
   "id": "2a1a2216-818c-4524-b8bf-85a09052ee60",
   "metadata": {},
   "outputs": [],
   "source": [
    "#40. Write a program that generates the prime factors of a given number using trial division.\n",
    "\n",
    "\n",
    "value = int(input('Enter the number : '))\n",
    "\n",
    "\n",
    "list_1= []\n",
    "list_2 = []\n",
    "\n",
    "for x in range(2,value):\n",
    "    for y in range(2,value):\n",
    "        if x % y == 0:\n",
    "            break\n",
    "    if x == y:\n",
    "        list_1.append(x)\n",
    "for z in list_1:\n",
    "    if value%z==0:\n",
    "        list_2.append(z)\n",
    "    else:\n",
    "        pass\n",
    "print('prime factors of a given number is ',list_2)"
   ]
  }
 ],
 "metadata": {
  "kernelspec": {
   "display_name": "Python 3 (ipykernel)",
   "language": "python",
   "name": "python3"
  },
  "language_info": {
   "codemirror_mode": {
    "name": "ipython",
    "version": 3
   },
   "file_extension": ".py",
   "mimetype": "text/x-python",
   "name": "python",
   "nbconvert_exporter": "python",
   "pygments_lexer": "ipython3",
   "version": "3.10.8"
  }
 },
 "nbformat": 4,
 "nbformat_minor": 5
}
